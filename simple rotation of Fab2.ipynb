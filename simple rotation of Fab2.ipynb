{
 "cells": [
  {
   "cell_type": "code",
   "execution_count": 5,
   "metadata": {},
   "outputs": [
    {
     "name": "stdout",
     "output_type": "stream",
     "text": [
      "Modified .gro file saved as output_mod.gro\n"
     ]
    }
   ],
   "source": [
    "def modify_gro_file(input_file, output_file):\n",
    "    with open(input_file, 'r') as f:\n",
    "        lines = f.readlines()\n",
    "    \n",
    "    modified_lines = []\n",
    "    \n",
    "    for i, line in enumerate(lines):\n",
    "        if i < 2 or len(line.strip()) < 20:\n",
    "            modified_lines.append(line)\n",
    "            continue\n",
    "        \n",
    "        try:\n",
    "            atom_index = int(line[15:20].strip())\n",
    "        except ValueError:\n",
    "            modified_lines.append(line)\n",
    "            continue\n",
    "        \n",
    "        if (1087 <= atom_index <= 1411) or (2676 <= atom_index <= 2939):\n",
    "            res = line[:20]\n",
    "            x = float(line[20:28].strip()) + 5\n",
    "            y = float(line[28:36].strip()) - 5\n",
    "            z = float(line[36:44].strip()) + 5\n",
    "            new_line = f\"{res}{x:8.3f}{y:8.3f}{z:8.3f}{line[44:]}\"\n",
    "            modified_lines.append(new_line)\n",
    "        else:\n",
    "            modified_lines.append(line)\n",
    "    \n",
    "    with open(output_file, 'w') as f:\n",
    "        f.writelines(modified_lines)\n",
    "    \n",
    "    print(f\"Modified .gro file saved as {output_file}\")\n",
    "\n",
    "# Example usage\n",
    "input_gro = \"1hzh_box.gro\"  # Change this to your actual input file\n",
    "output_gro = \"output_mod.gro\"  # Change this to your desired output file\n",
    "modify_gro_file(input_gro, output_gro)"
   ]
  },
  {
   "cell_type": "code",
   "execution_count": 11,
   "metadata": {},
   "outputs": [
    {
     "name": "stdout",
     "output_type": "stream",
     "text": [
      "Modified .gro file saved as output45.gro\n"
     ]
    }
   ],
   "source": [
    "import numpy as np\n",
    "\n",
    "def rotate_point(x, y, z, angle, ref_point):\n",
    "    angle_rad = np.radians(angle)\n",
    "    cos_a = np.cos(angle_rad)\n",
    "    sin_a = np.sin(angle_rad)\n",
    "    \n",
    "    # Rotation matrices for 45-degree rotation around X, Y, and Z axes\n",
    "    Rx = np.array([[1, 0, 0], [0, cos_a, -sin_a], [0, sin_a, cos_a]])\n",
    "    Ry = np.array([[cos_a, 0, sin_a], [0, 1, 0], [-sin_a, 0, cos_a]])\n",
    "    Rz = np.array([[cos_a, -sin_a, 0], [sin_a, cos_a, 0], [0, 0, 1]])\n",
    "    \n",
    "    # Translate point to origin based on reference point\n",
    "    x -= ref_point[0]\n",
    "    y -= ref_point[1]\n",
    "    z -= ref_point[2]\n",
    "    \n",
    "    # Apply rotations\n",
    "    rotated = Rx @ np.array([x, y, z])\n",
    "    rotated = Ry @ rotated\n",
    "    rotated = Rz @ rotated\n",
    "    \n",
    "    # Translate back to original reference point\n",
    "    x_new = rotated[0] + ref_point[0]\n",
    "    y_new = rotated[1] + ref_point[1]\n",
    "    z_new = rotated[2] + ref_point[2]\n",
    "    \n",
    "    return x_new, y_new, z_new\n",
    "\n",
    "def modify_gro_file(input_file, output_file):\n",
    "    with open(input_file, 'r') as f:\n",
    "        lines = f.readlines()\n",
    "    \n",
    "    modified_lines = []\n",
    "    reference_point = (10, 10, 10)  # Reference point for rotation\n",
    "    rotation_angles = (-30, -45, -45)  # Rotation angles in degrees for X, Y, and Z\n",
    "    \n",
    "    \n",
    "    for i, line in enumerate(lines):\n",
    "        if i < 2 or len(line.strip()) < 20:\n",
    "            modified_lines.append(line)\n",
    "            continue\n",
    "        \n",
    "        try:\n",
    "            atom_index = int(line[15:20].strip())\n",
    "        except ValueError:\n",
    "            modified_lines.append(line)\n",
    "            continue\n",
    "        \n",
    "        if (1087 <= atom_index <= 1629) or (2676 <= atom_index <= 3178):\n",
    "            res = line[:20]\n",
    "            x = float(line[20:28].strip())\n",
    "            y = float(line[28:36].strip())\n",
    "            z = float(line[36:44].strip())\n",
    "            \n",
    "            x_new, y_new, z_new = rotate_point(x, y, z,-30, reference_point)\n",
    "            \n",
    "            new_line = f\"{res}{x_new:8.3f}{y_new:8.3f}{z_new:8.3f}{line[44:]}\"\n",
    "            modified_lines.append(new_line)\n",
    "        else:\n",
    "            modified_lines.append(line)\n",
    "    \n",
    "    with open(output_file, 'w') as f:\n",
    "        f.writelines(modified_lines)\n",
    "    \n",
    "    print(f\"Modified .gro file saved as {output_file}\")\n",
    "\n",
    "# Example usage\n",
    "input_gro = \"1hzh_box.gro\"  # Change this to your actual input file\n",
    "output_gro = \"output45.gro\"  # Change this to your desired output file\n",
    "modify_gro_file(input_gro, output_gro)\n"
   ]
  },
  {
   "cell_type": "code",
   "execution_count": null,
   "metadata": {},
   "outputs": [],
   "source": []
  }
 ],
 "metadata": {
  "kernelspec": {
   "display_name": "Python 3",
   "language": "python",
   "name": "python3"
  },
  "language_info": {
   "codemirror_mode": {
    "name": "ipython",
    "version": 3
   },
   "file_extension": ".py",
   "mimetype": "text/x-python",
   "name": "python",
   "nbconvert_exporter": "python",
   "pygments_lexer": "ipython3",
   "version": "3.11.10"
  }
 },
 "nbformat": 4,
 "nbformat_minor": 2
}
