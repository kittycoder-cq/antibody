{
 "cells": [
  {
   "cell_type": "markdown",
   "metadata": {},
   "source": [
    "### input itp, output tcl for drawing the elastic network"
   ]
  },
  {
   "cell_type": "code",
   "execution_count": null,
   "metadata": {},
   "outputs": [],
   "source": [
    "import re\n",
    "\n",
    "def extract_numbers_from_itp(itp_file):\n",
    "    start_marker = \"; Rubber band\"\n",
    "    end_marker = \"; Short elastic bonds for extended regions\"\n",
    "    extracting = False\n",
    "    extracted_data = []\n",
    "\n",
    "    with open(itp_file, 'r') as file:\n",
    "        for line in file:\n",
    "            if start_marker in line:\n",
    "                extracting = True\n",
    "                continue\n",
    "            elif end_marker in line:\n",
    "                break\n",
    "            \n",
    "            if extracting:\n",
    "                numbers = re.findall(r'\\d+', line)\n",
    "                if len(numbers) >= 2:\n",
    "                    num1, num2 = int(numbers[0]) - 1, int(numbers[1]) - 1\n",
    "                    extracted_data.append(f\"{{{num1} {num2}}}\")\n",
    "    \n",
    "    return extracted_data\n",
    "\n",
    "def generate_tcl_file(input_file, output_file):\n",
    "    bonds = extract_numbers_from_itp(input_file)\n",
    "    bond_list_content = \" \".join(bonds)\n",
    "    \n",
    "    tcl_content = f\"\"\"\n",
    "set bond_list {{\n",
    "{bond_list_content}\n",
    "}}\n",
    "\n",
    "# Loop through all bonds\n",
    "foreach bond $bond_list {{\n",
    "    set sel1 [atomselect top \"index [lindex $bond 0]\"]\n",
    "    set sel2 [atomselect top \"index [lindex $bond 1]\"]\n",
    "\n",
    "    # Draw a bond as a line\n",
    "    graphics top line [lindex [$sel1 get {{x y z}}] 0] [lindex [$sel2 get {{x y z}}] 0] width 3\n",
    "}}\n",
    "\"\"\"\n",
    "    \n",
    "    with open(output_file, 'w') as file:\n",
    "        file.write(tcl_content)\n",
    "    print(f\"TCL file '{output_file}' generated successfully.\")\n",
    "\n",
    "if __name__ == \"__main__\":\n",
    "    itp_file = \"molecule_0.itp\"  # Replace with the actual ITP filename\n",
    "    output_tcl = \"draw_elastic_network.tcl\" # need to change output TCL file name if using different input ITP\n",
    "    generate_tcl_file(itp_file, output_tcl)\n"
   ]
  },
  {
   "cell_type": "code",
   "execution_count": null,
   "metadata": {},
   "outputs": [],
   "source": []
  }
 ],
 "metadata": {
  "kernelspec": {
   "display_name": "Python 3",
   "language": "python",
   "name": "python3"
  },
  "language_info": {
   "codemirror_mode": {
    "name": "ipython",
    "version": 3
   },
   "file_extension": ".py",
   "mimetype": "text/x-python",
   "name": "python",
   "nbconvert_exporter": "python",
   "pygments_lexer": "ipython3",
   "version": "3.11.10"
  }
 },
 "nbformat": 4,
 "nbformat_minor": 2
}
